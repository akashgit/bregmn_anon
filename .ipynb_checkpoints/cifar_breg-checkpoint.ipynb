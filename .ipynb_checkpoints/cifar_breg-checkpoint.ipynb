{
 "cells": [
  {
   "cell_type": "markdown",
   "metadata": {},
   "source": [
    "# RM-MMDnet"
   ]
  },
  {
   "cell_type": "code",
   "execution_count": 1,
   "metadata": {},
   "outputs": [
    {
     "name": "stdout",
     "output_type": "stream",
     "text": [
      "Populating the interactive namespace from numpy and matplotlib\n"
     ]
    }
   ],
   "source": [
    "import warnings\n",
    "warnings.filterwarnings('ignore')\n",
    "\n",
    "%pylab inline\n",
    "\n",
    "import tensorflow as tf\n",
    "tf.compat.v1.logging.set_verbosity(tf.compat.v1.logging.ERROR)\n",
    "\n",
    "import numpy as np\n",
    "from ops import *\n",
    "from utils import *\n",
    "import os\n",
    "import time\n",
    "from glob import glob\n",
    "from scipy.misc import imsave as ims\n",
    "from random import randint\n",
    "from data_providers import *\n",
    "slim = tf.contrib.slim\n",
    "import scipy as sp\n",
    "import pickle\n",
    "from tensorflow.keras import datasets\n",
    "import tensorflow.data as td\n",
    "from tqdm import tqdm_notebook as tqdm\n",
    "\n",
    "config = tf.ConfigProto(\n",
    "    gpu_options = tf.GPUOptions(per_process_gpu_memory_fraction=.3),\n",
    "    device_count = {'GPU': 1}\n",
    ")"
   ]
  },
  {
   "cell_type": "code",
   "execution_count": 2,
   "metadata": {},
   "outputs": [],
   "source": [
    "params = {\n",
    "    'batch_size':64,\n",
    "    'image_dim':32*32*3,\n",
    "    'imageshape': [64,32,32,3],\n",
    "    'c':3,\n",
    "    'h':32,\n",
    "    'w':32,\n",
    "    'epochs' :20,\n",
    "    'noise_dim':128\n",
    "}"
   ]
  },
  {
   "cell_type": "code",
   "execution_count": 3,
   "metadata": {},
   "outputs": [],
   "source": [
    "'''Keras function to download CIFAR10'''\n",
    "(train_images, train_labels), (test_images, test_labels) = datasets.cifar10.load_data()\n",
    "train_images, test_images = np.float32(train_images / 255.0), np.float32(test_images / 255.0)\n"
   ]
  },
  {
   "cell_type": "code",
   "execution_count": 4,
   "metadata": {},
   "outputs": [],
   "source": [
    "'''Notice that unlike usual GAN, this is not a binary classifier. The output is a vector of dim 3.'''\n",
    "def discriminator(image, reuse=False, batchsize=params['batch_size'],h=params['h'],w=params['w'],c=params['c'],df_dim=params['h']):\n",
    "    \n",
    "    with tf.variable_scope(\"disc\") as scope:\n",
    "        if reuse:\n",
    "                scope.reuse_variables()\n",
    "      \n",
    "        h0 = image\n",
    "        h0 = lrelu(conv2d(h0, 3, df_dim, name='d_h0_conv')) #16x16x32\n",
    "        h1 = lrelu(tf.contrib.layers.batch_norm(conv2d(h0, df_dim, df_dim*2, name='d_h1_conv'))) #8x8x64\n",
    "        h2 = lrelu(tf.contrib.layers.batch_norm(conv2d(h1, df_dim*2, df_dim*2*2, name='d_h2_conv'))) #4x4x128\n",
    "        h3 = tf.reshape(h2, [batchsize, -1])\n",
    "        h4 = (dense(h3, 4*4*df_dim*4, 3, scope='d_h4_lin')) #2048\n",
    "\n",
    "        return h4\n",
    "    \n",
    "\n",
    "        \n",
    "def generator(z,z_dim=params['noise_dim'],batchsize=params['batch_size'],h=params['h'],w=params['w'],c=params['c'],gf_dim=params['h']):\n",
    "    with tf.variable_scope(\"gen\") as scope:\n",
    "        z2 = dense(z, z_dim, 4*4*gf_dim*4, scope='g_h0_lin')\n",
    "        h0 = tf.nn.relu(tf.contrib.layers.batch_norm(tf.reshape(z2, [-1, 4, 4, gf_dim*4]))) # 4x4x128\n",
    "        h1 = tf.nn.relu(tf.contrib.layers.batch_norm(conv_transpose(h0, [batchsize, 8, 8, gf_dim*2], \"g_h1\"))) #8x8x64\n",
    "        h2 = tf.nn.relu(tf.contrib.layers.batch_norm(conv_transpose(h1, [batchsize, 16, 16, gf_dim*1], \"g_h2\"))) #16x16x32\n",
    "        h3 = tf.nn.sigmoid(conv_transpose(h2, [batchsize, h, w, c], \"g_h4\"))\n",
    "\n",
    "        return h3  \n",
    "        "
   ]
  },
  {
   "cell_type": "code",
   "execution_count": 5,
   "metadata": {},
   "outputs": [
    {
     "name": "stdout",
     "output_type": "stream",
     "text": [
      "Dataset Object: <DatasetV1Adapter shapes: (64, 32, 32, 3), types: tf.float32>\n",
      "Iterator: Tensor(\"IteratorGetNext:0\", shape=(64, 32, 32, 3), dtype=float32)\n"
     ]
    }
   ],
   "source": [
    "tf.reset_default_graph()\n",
    "\n",
    "# DataLoader and iterator\n",
    "batch = td.Dataset.from_tensor_slices(train_images).shuffle(len(train_images), reshuffle_each_iteration=True).repeat().batch(params['batch_size'], drop_remainder=True).prefetch(10)\n",
    "print('Dataset Object:', batch)\n",
    "iterator = batch.make_initializable_iterator()\n",
    "batch_images = iterator.get_next()\n",
    "print('Iterator:' ,batch_images)\n",
    "\n",
    "\n",
    "# Placeholders for input \n",
    "gen_input = tf.placeholder(tf.float32, shape=[None, params['noise_dim']], name='input_noise')\n",
    "m_input = tf.placeholder(tf.float32, shape=params['imageshape'], name='m_input')\n",
    "n_input = tf.placeholder(tf.float32, shape=params['imageshape'], name='n_input')\n",
    "\n",
    "\n",
    "# Build Generator Network\n",
    "gen_sample = generator(gen_input)\n",
    "\n",
    "# Build 2 Discriminator Networks (one from noise input, one from generated samples)\n",
    "disc_real = discriminator(batch_images)\n",
    "disc_fake = discriminator(gen_sample,reuse=True)\n",
    "disc_m = discriminator(batch_images+m_input,reuse=True)\n",
    "disc_m_gen = discriminator(gen_sample+n_input,reuse=True)\n",
    "\n",
    "# Build Loss\n",
    "a = np.tile([1.,0.,0.],params['batch_size'])\n",
    "b = np.tile([0.,1.,0.],params['batch_size'])\n",
    "c = np.tile([0.,0.,1.],params['batch_size'])\n",
    "label_a = tf.reshape(a,[params['batch_size'],3])\n",
    "label_b = tf.reshape(b,[params['batch_size'],3])\n",
    "label_c = tf.reshape(c,[params['batch_size'],3])\n",
    "\n",
    "disc_loss_1 = tf.reduce_mean(tf.nn.softmax_cross_entropy_with_logits(logits=disc_real, labels=label_a))\n",
    "disc_loss_2 = tf.reduce_mean(tf.nn.softmax_cross_entropy_with_logits(logits=disc_fake, labels=label_b))\n",
    "disc_loss_3 = tf.reduce_mean(tf.nn.softmax_cross_entropy_with_logits(logits=disc_m, labels=label_c))\n",
    "disc_loss_4 = tf.reduce_mean(tf.nn.softmax_cross_entropy_with_logits(logits=disc_m_gen, labels=label_c))\n",
    "dloss = disc_loss_1 + disc_loss_2 + disc_loss_3 + disc_loss_4\n",
    "\n",
    "r_p_m = (tf.nn.softmax(disc_m_gen)[:,0])/(tf.nn.softmax(disc_m_gen)[:,2])\n",
    "r_q_m = (tf.nn.softmax(disc_m_gen)[:,1])/(tf.nn.softmax(disc_m_gen)[:,2])\n",
    "\n",
    "gloss = tf.reduce_mean( tf.square(r_p_m - 1) - tf.square(r_q_m - 1) - 2*(r_q_m-1)*(r_p_m-r_q_m) )\n",
    "      \n",
    "#Build Optimizers\n",
    "t_vars = tf.trainable_variables()\n",
    "g_vars = [var for var in t_vars if 'gen' in var.name]\n",
    "d_vars = [var for var in t_vars if 'disc' in var.name]\n",
    "\n",
    "learningrate_gen = 1e-4\n",
    "learningrate = 1e-4\n",
    "beta1 = 0.5\n",
    "g_optim = tf.train.AdamOptimizer(learningrate_gen, beta1=beta1).minimize(gloss, var_list=g_vars)\n",
    "d_optim = tf.train.AdamOptimizer(learningrate,     beta1=beta1).minimize(dloss, var_list=d_vars)\n",
    "\n",
    "#Initialize\n",
    "start_time = time.time()\n",
    "sess = tf.Session(config=config)\n",
    "sess.run(tf.global_variables_initializer())\n",
    "sess.run(iterator.initializer)"
   ]
  },
  {
   "cell_type": "code",
   "execution_count": null,
   "metadata": {},
   "outputs": [],
   "source": [
    "# '------Training GAN--------------------'\n",
    "batch_z = np.random.uniform(-1, 1, [params['batch_size'], params['noise_dim']]).astype(np.float32) \n",
    "num_batches = int(len(train_images)/params['batch_size'])\n",
    "\n",
    "for epoch in tqdm(xrange(params['epochs'])):\n",
    "    for idx in tqdm(range(num_batches)):\n",
    "        \n",
    "        z = np.random.uniform(-1., 1., size=[params['batch_size'], params['noise_dim']])\n",
    "        m = np.random.normal(0, .01, size=params['imageshape'])\n",
    "        n_ = np.random.normal(0, .01, size=params['imageshape'])\n",
    "\n",
    "        # Trainß\n",
    "        feed_dict = {gen_input: z, m_input: m, n_input: n_}\n",
    "        _, _, gl, dl = sess.run([d_optim, g_optim, gloss, dloss],\n",
    "                                feed_dict=feed_dict)\n",
    "        \n",
    "        \n",
    "#     '---------Printing intermediate results-------------'      \n",
    "    if epoch % 5 == 0:\n",
    "        \n",
    "        print(\"Epoch: [%2d] [%4d/%4d] time: %4.4f, \" % (epoch, idx, num_batches, time.time() - start_time,))\n",
    "        \n",
    "        sdata = sess.run([gen_sample],feed_dict = {gen_input: batch_z})\n",
    "        sdata = sdata[0][:64]\n",
    "        sdata = np.expand_dims(sdata,0)\n",
    "        img = merge(sdata[0],[8,8])\n",
    "        img = (img+1.)/2.\n",
    "        plt.imshow(img)\n",
    "        plt.show()\n",
    "    \n",
    "\n",
    "\n"
   ]
  },
  {
   "cell_type": "code",
   "execution_count": null,
   "metadata": {},
   "outputs": [],
   "source": [
    "'''Generate random samples and save to compute FID later.'''\n",
    "gen_images = np.vstack([sess.run(gen_sample,feed_dict={ \\\n",
    "            gen_input: np.random.uniform(-1, 1, [batchsize, z_dim]).astype(np.float32) }) for _ in range(250)])\n",
    "\n",
    "print(gen_images.shape)\n",
    "np.save(\"cifar_breg\",(gen_images+1.)/2.)"
   ]
  },
  {
   "cell_type": "code",
   "execution_count": null,
   "metadata": {},
   "outputs": [],
   "source": []
  }
 ],
 "metadata": {
  "kernelspec": {
   "display_name": "Python 3",
   "language": "python",
   "name": "python3"
  },
  "language_info": {
   "codemirror_mode": {
    "name": "ipython",
    "version": 3
   },
   "file_extension": ".py",
   "mimetype": "text/x-python",
   "name": "python",
   "nbconvert_exporter": "python",
   "pygments_lexer": "ipython3",
   "version": "3.6.10"
  }
 },
 "nbformat": 4,
 "nbformat_minor": 4
}
